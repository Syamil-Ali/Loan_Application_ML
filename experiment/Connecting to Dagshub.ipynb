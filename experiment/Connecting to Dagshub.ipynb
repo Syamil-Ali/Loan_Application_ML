{
 "cells": [
  {
   "cell_type": "code",
   "execution_count": 3,
   "id": "6968abd0",
   "metadata": {},
   "outputs": [],
   "source": [
    "#!pip install dagshub"
   ]
  },
  {
   "cell_type": "code",
   "execution_count": 8,
   "id": "c6cbd7e2",
   "metadata": {},
   "outputs": [],
   "source": [
    "import mlflow\n",
    "from mlflow import MlflowClient\n",
    "from steps import data_ingestion as di\n",
    "from steps import data_transformation as dt\n",
    "from steps import model_training as mt\n",
    "import mlflow_exp as mle"
   ]
  },
  {
   "cell_type": "code",
   "execution_count": 1,
   "id": "0353f31a",
   "metadata": {},
   "outputs": [
    {
     "data": {
      "text/html": [
       "<pre style=\"white-space:pre;overflow-x:auto;line-height:normal;font-family:Menlo,'DejaVu Sans Mono',consolas,'Courier New',monospace\">                                       <span style=\"font-weight: bold\">❗❗❗ AUTHORIZATION REQUIRED ❗❗❗</span>                                        \n",
       "</pre>\n"
      ],
      "text/plain": [
       "                                       \u001b[1m❗❗❗ AUTHORIZATION REQUIRED ❗❗❗\u001b[0m                                        \n"
      ]
     },
     "metadata": {},
     "output_type": "display_data"
    },
    {
     "name": "stdout",
     "output_type": "stream",
     "text": [
      "\n",
      "\n",
      "Open the following link in your browser to authorize the client:\n",
      "https://dagshub.com/login/oauth/authorize?state=328987e8-e4cc-4727-a41a-27eea38393f3&client_id=32b60ba385aa7cecf24046d8195a71c07dd345d9657977863b52e7748e0f0f28&middleman_request_id=94eed54018b82c621477658612922d06eaf8d3f1a602ebe3c30e63af7a29764f\n",
      "\n",
      "\n"
     ]
    },
    {
     "data": {
      "application/vnd.jupyter.widget-view+json": {
       "model_id": "",
       "version_major": 2,
       "version_minor": 0
      },
      "text/plain": [
       "Output()"
      ]
     },
     "metadata": {},
     "output_type": "display_data"
    },
    {
     "data": {
      "text/html": [
       "<pre style=\"white-space:pre;overflow-x:auto;line-height:normal;font-family:Menlo,'DejaVu Sans Mono',consolas,'Courier New',monospace\"></pre>\n"
      ],
      "text/plain": []
     },
     "metadata": {},
     "output_type": "display_data"
    }
   ],
   "source": [
    "import dagshub \n",
    "import os\n",
    "\n",
    "DAGSHUB_TOKEN = dagshub.auth.get_token()"
   ]
  },
  {
   "cell_type": "code",
   "execution_count": 6,
   "id": "cc42c53a",
   "metadata": {},
   "outputs": [],
   "source": [
    "import os\n",
    "\n",
    "MLFLOW_TRACKING_URI='https://dagshub.com/Syamil-Ali/Loan_Application_ML.mlflow'\n",
    "MLFLOW_TRACKING_USERNAME='Syamil-Ali'\n",
    "MLFLOW_TRACKING_PASSWORD='2e6b27e2093c83eacbf6777913b6d087592d1710'\n",
    "\n",
    "# It's recommended to define this within the code, because it's project specific (but this works too)\n",
    "os.environ['MLFLOW_TRACKING_URI']=MLFLOW_TRACKING_URI\n",
    "\n",
    "# Recommended to define as environment variables\n",
    "os.environ['MLFLOW_TRACKING_USERNAME'] = MLFLOW_TRACKING_USERNAME\n",
    "os.environ['MLFLOW_TRACKING_PASSWORD'] = DAGSHUB_TOKEN"
   ]
  },
  {
   "cell_type": "code",
   "execution_count": 5,
   "id": "d53f83d4",
   "metadata": {},
   "outputs": [],
   "source": [
    "# create a client to access the MLflow tracking server\n",
    "client = mlflow.MlflowClient()\n",
    "\n"
   ]
  },
  {
   "cell_type": "code",
   "execution_count": 7,
   "id": "1a7cc6f3",
   "metadata": {},
   "outputs": [],
   "source": [
    "# Create and experiment there\n",
    "\n",
    "# MLFLOW SETUP\n",
    "\n",
    "# CREATING EXPERIMENT\n",
    "\n",
    "\n",
    "# Provide an Experiment description that will appear in the UI\n",
    "experiment_description = (\n",
    "    \"This is the application loan prediction project \"\n",
    "    \"This experiment contains the models for loan application\"\n",
    "    \"Also this experiment is for learning purpose\"\n",
    ")\n",
    "\n",
    "\n",
    "# Provide searchable tags that define characteristics of the Runs that\n",
    "# will be in this Experiment\n",
    "experiment_tags = {\n",
    "    \"project_name\": \"loan_application_project\",\n",
    "    \"team\": \"syamil\",\n",
    "    \"project_quarter\": \"Q3-2024\",\n",
    "    \"mlflow.note.content\": experiment_description,\n",
    "}\n",
    "\n",
    "# Create the Experiment, providing a unique name\n",
    "produce_apples_experiment = client.create_experiment(\n",
    "    name=\"Loan_Application_Models\", tags=experiment_tags\n",
    ")\n"
   ]
  },
  {
   "cell_type": "code",
   "execution_count": 9,
   "id": "c96b9da3",
   "metadata": {},
   "outputs": [],
   "source": [
    "# test\n",
    "\n",
    "file_path = 'C:/Users/USER/Desktop/python project/MLFLOW/Real Loan Application/data/Applicant-details.csv'\n",
    "\n",
    "# get file\n",
    "df = di.data_ingest(file_path)\n",
    "\n",
    "# cleaning and transform the dataset\n",
    "X_train, y_train, X_test, y_test = dt.cleaning_train_pipeline(df)\n",
    "\n",
    "params = {\n",
    "    'max_iter': 100,\n",
    "    'class_weight': 'balanced'\n",
    "}\n",
    "\n",
    "\n",
    "# train the model\n",
    "\n",
    "model, score_train, score_valid, signature = mt.train_model(X_train, y_train, X_test, y_test, params)"
   ]
  },
  {
   "cell_type": "code",
   "execution_count": 15,
   "id": "49bbd2f7",
   "metadata": {},
   "outputs": [
    {
     "name": "stderr",
     "output_type": "stream",
     "text": [
      "Registered model 'Logistic Regression Dagshub' already exists. Creating a new version of this model...\n",
      "2024/03/24 16:02:49 INFO mlflow.tracking._model_registry.client: Waiting up to 300 seconds for model version to finish creation.                     Model name: Logistic Regression Dagshub, version 3\n",
      "Created version '3' of model 'Logistic Regression Dagshub'.\n"
     ]
    }
   ],
   "source": [
    "# Log the result into mlflow\n",
    "\n",
    "\n",
    "# setting up the param\n",
    "exp_param = {\n",
    "    'name' : 'Loan_Application_Models',\n",
    "    'run_name': 'second_experiment',\n",
    "    'artifact_path': 'loan_application_model',\n",
    "    'model_name': 'Logistic Regression Dagshub', \n",
    "    'signature': signature\n",
    "}\n",
    "\n",
    "model_params = params\n",
    "model_params['ways'] = 'balanced'\n",
    "\n",
    "metrics = {\n",
    "    'training_accuracy': score_train,\n",
    "    'test_accuracy': score_valid\n",
    "}\n",
    "\n",
    "mle.mlflow_logging(exp_param, model, params, metrics)\n",
    "\n"
   ]
  },
  {
   "cell_type": "code",
   "execution_count": 11,
   "id": "1450bead",
   "metadata": {},
   "outputs": [],
   "source": [
    "# rename registered model\n",
    "\n",
    "client.rename_registered_model(\n",
    "    name = 'Logistic_Regressionv2',\n",
    "    new_name = 'Logistic Regression Dagshub'\n",
    ")"
   ]
  },
  {
   "cell_type": "code",
   "execution_count": 13,
   "id": "e5eab4a9",
   "metadata": {},
   "outputs": [
    {
     "data": {
      "text/plain": [
       "<ModelVersion: creation_timestamp=1711263710367, current_stage='Staging', description='', last_updated_timestamp=1711264414129, name='Logistic Regression Dagshub', run_id='696fe8248eb943d7b5be8533446cda0f', run_link='', source='mlflow-artifacts:/7cbf54936da54dddb416f99b04b14240/696fe8248eb943d7b5be8533446cda0f/artifacts/loan_application_model', status='READY', status_message='', tags={}, user_id='', version='1'>"
      ]
     },
     "execution_count": 13,
     "metadata": {},
     "output_type": "execute_result"
    }
   ],
   "source": [
    "# transition the staging model from None to Staging\n",
    "\n",
    "client.transition_model_version_stage(\n",
    "    name='Logistic Regression Dagshub',\n",
    "    version=1,\n",
    "    stage=\"Staging\"\n",
    ")"
   ]
  },
  {
   "cell_type": "code",
   "execution_count": 26,
   "id": "eed8de46",
   "metadata": {},
   "outputs": [
    {
     "name": "stdout",
     "output_type": "stream",
     "text": [
      "name=Logistic Regression Dagshub; run_id=696fe8248eb943d7b5be8533446cda0f; version=1, stage=Staging\n",
      "name=Logistic Regression Dagshub; run_id=fa43e67a689444e08761230c1a5b3645; version=3, stage=None\n"
     ]
    }
   ],
   "source": [
    "for model in client.search_registered_models(filter_string=\"name LIKE '%'\"):\n",
    "    for model_version in model.latest_versions:\n",
    "        if model_version.current_stage == 'Staging':\n",
    "            deployment_model = model_version\n",
    "        print(f\"name={model_version.name}; run_id={model_version.run_id}; version={model_version.version}, stage={model_version.current_stage}\")"
   ]
  },
  {
   "cell_type": "code",
   "execution_count": 28,
   "id": "7f4c1ce7",
   "metadata": {},
   "outputs": [],
   "source": [
    "# model that will be use\n",
    "\n",
    "#deployment_model.run_id\n",
    "\n",
    "model_path = f'runs:/{deployment_model.run_id}/loan_application_model'\n",
    "\n",
    "loaded_model = mlflow.pyfunc.load_model(model_path)"
   ]
  },
  {
   "cell_type": "code",
   "execution_count": 29,
   "id": "736d8c57",
   "metadata": {},
   "outputs": [],
   "source": [
    "# test sample data\n",
    "\n",
    "sample = X_test[1].reshape(-1, 11)\n",
    "\n",
    "\n",
    "#loaded_model.predict(pd.DataFrame(X_test[0]))"
   ]
  },
  {
   "cell_type": "code",
   "execution_count": 31,
   "id": "f86f4d9d",
   "metadata": {},
   "outputs": [
    {
     "data": {
      "text/plain": [
       "array([1], dtype=int64)"
      ]
     },
     "execution_count": 31,
     "metadata": {},
     "output_type": "execute_result"
    }
   ],
   "source": [
    "loaded_model.predict(sample)"
   ]
  },
  {
   "cell_type": "code",
   "execution_count": null,
   "id": "c72bb7e4",
   "metadata": {},
   "outputs": [],
   "source": []
  }
 ],
 "metadata": {
  "kernelspec": {
   "display_name": "mlflowtest",
   "language": "python",
   "name": "mlflowtest"
  },
  "language_info": {
   "codemirror_mode": {
    "name": "ipython",
    "version": 3
   },
   "file_extension": ".py",
   "mimetype": "text/x-python",
   "name": "python",
   "nbconvert_exporter": "python",
   "pygments_lexer": "ipython3",
   "version": "3.8.18"
  }
 },
 "nbformat": 4,
 "nbformat_minor": 5
}
