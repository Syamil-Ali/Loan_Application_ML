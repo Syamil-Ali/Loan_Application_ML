{
 "cells": [
  {
   "cell_type": "code",
   "execution_count": 21,
   "id": "cb17f29d",
   "metadata": {},
   "outputs": [],
   "source": [
    "import pandas as pd\n",
    "from steps import data_ingestion as di\n",
    "from steps import data_transformation as dt\n",
    "from steps import model_training as mt\n",
    "import mlflow_exp as mle"
   ]
  },
  {
   "cell_type": "code",
   "execution_count": 16,
   "id": "c02f4add",
   "metadata": {},
   "outputs": [],
   "source": [
    "import mlflow\n",
    "from mlflow import MlflowClient\n"
   ]
  },
  {
   "cell_type": "code",
   "execution_count": 7,
   "id": "666c616d",
   "metadata": {},
   "outputs": [
    {
     "data": {
      "text/html": [
       "<div>\n",
       "<style scoped>\n",
       "    .dataframe tbody tr th:only-of-type {\n",
       "        vertical-align: middle;\n",
       "    }\n",
       "\n",
       "    .dataframe tbody tr th {\n",
       "        vertical-align: top;\n",
       "    }\n",
       "\n",
       "    .dataframe thead th {\n",
       "        text-align: right;\n",
       "    }\n",
       "</style>\n",
       "<table border=\"1\" class=\"dataframe\">\n",
       "  <thead>\n",
       "    <tr style=\"text-align: right;\">\n",
       "      <th></th>\n",
       "      <th>Applicant_ID</th>\n",
       "      <th>Annual_Income</th>\n",
       "      <th>Applicant_Age</th>\n",
       "      <th>Work_Experience</th>\n",
       "      <th>Marital_Status</th>\n",
       "      <th>House_Ownership</th>\n",
       "      <th>Vehicle_Ownership(car)</th>\n",
       "      <th>Occupation</th>\n",
       "      <th>Residence_City</th>\n",
       "      <th>Residence_State</th>\n",
       "      <th>Years_in_Current_Employment</th>\n",
       "      <th>Years_in_Current_Residence</th>\n",
       "      <th>Loan_Default_Risk</th>\n",
       "    </tr>\n",
       "  </thead>\n",
       "  <tbody>\n",
       "    <tr>\n",
       "      <th>0</th>\n",
       "      <td>75722</td>\n",
       "      <td>9657655</td>\n",
       "      <td>76</td>\n",
       "      <td>0</td>\n",
       "      <td>single</td>\n",
       "      <td>rented</td>\n",
       "      <td>no</td>\n",
       "      <td>Psychologist</td>\n",
       "      <td>Jalandhar</td>\n",
       "      <td>Punjab</td>\n",
       "      <td>0</td>\n",
       "      <td>12</td>\n",
       "      <td>0</td>\n",
       "    </tr>\n",
       "    <tr>\n",
       "      <th>1</th>\n",
       "      <td>80185</td>\n",
       "      <td>9259353</td>\n",
       "      <td>37</td>\n",
       "      <td>18</td>\n",
       "      <td>single</td>\n",
       "      <td>rented</td>\n",
       "      <td>no</td>\n",
       "      <td>Petroleum_Engineer</td>\n",
       "      <td>Bally</td>\n",
       "      <td>West_Bengal</td>\n",
       "      <td>12</td>\n",
       "      <td>11</td>\n",
       "      <td>0</td>\n",
       "    </tr>\n",
       "    <tr>\n",
       "      <th>2</th>\n",
       "      <td>19865</td>\n",
       "      <td>1509721</td>\n",
       "      <td>66</td>\n",
       "      <td>8</td>\n",
       "      <td>single</td>\n",
       "      <td>rented</td>\n",
       "      <td>no</td>\n",
       "      <td>Drafter</td>\n",
       "      <td>Indore</td>\n",
       "      <td>Madhya_Pradesh</td>\n",
       "      <td>4</td>\n",
       "      <td>12</td>\n",
       "      <td>0</td>\n",
       "    </tr>\n",
       "    <tr>\n",
       "      <th>3</th>\n",
       "      <td>76700</td>\n",
       "      <td>5867312</td>\n",
       "      <td>43</td>\n",
       "      <td>1</td>\n",
       "      <td>single</td>\n",
       "      <td>owned</td>\n",
       "      <td>no</td>\n",
       "      <td>Chartered_Accountant</td>\n",
       "      <td>Kurnool[18]</td>\n",
       "      <td>Andhra_Pradesh</td>\n",
       "      <td>1</td>\n",
       "      <td>13</td>\n",
       "      <td>1</td>\n",
       "    </tr>\n",
       "    <tr>\n",
       "      <th>4</th>\n",
       "      <td>92992</td>\n",
       "      <td>7223191</td>\n",
       "      <td>44</td>\n",
       "      <td>9</td>\n",
       "      <td>single</td>\n",
       "      <td>rented</td>\n",
       "      <td>no</td>\n",
       "      <td>Air_traffic_controller</td>\n",
       "      <td>Asansol</td>\n",
       "      <td>West_Bengal</td>\n",
       "      <td>9</td>\n",
       "      <td>13</td>\n",
       "      <td>0</td>\n",
       "    </tr>\n",
       "  </tbody>\n",
       "</table>\n",
       "</div>"
      ],
      "text/plain": [
       "   Applicant_ID  Annual_Income  Applicant_Age  Work_Experience Marital_Status  \\\n",
       "0         75722        9657655             76                0         single   \n",
       "1         80185        9259353             37               18         single   \n",
       "2         19865        1509721             66                8         single   \n",
       "3         76700        5867312             43                1         single   \n",
       "4         92992        7223191             44                9         single   \n",
       "\n",
       "  House_Ownership Vehicle_Ownership(car)              Occupation  \\\n",
       "0          rented                     no            Psychologist   \n",
       "1          rented                     no      Petroleum_Engineer   \n",
       "2          rented                     no                 Drafter   \n",
       "3           owned                     no    Chartered_Accountant   \n",
       "4          rented                     no  Air_traffic_controller   \n",
       "\n",
       "  Residence_City Residence_State  Years_in_Current_Employment  \\\n",
       "0      Jalandhar          Punjab                            0   \n",
       "1          Bally     West_Bengal                           12   \n",
       "2         Indore  Madhya_Pradesh                            4   \n",
       "3    Kurnool[18]  Andhra_Pradesh                            1   \n",
       "4        Asansol     West_Bengal                            9   \n",
       "\n",
       "   Years_in_Current_Residence  Loan_Default_Risk  \n",
       "0                          12                  0  \n",
       "1                          11                  0  \n",
       "2                          12                  0  \n",
       "3                          13                  1  \n",
       "4                          13                  0  "
      ]
     },
     "execution_count": 7,
     "metadata": {},
     "output_type": "execute_result"
    }
   ],
   "source": [
    "file_path = 'C:/Users/USER/Desktop/python project/MLFLOW/Real Loan Application/data/Applicant-details.csv'\n",
    "\n",
    "# get file\n",
    "df = di.data_ingest(file_path)\n",
    "\n",
    "df.head()"
   ]
  },
  {
   "cell_type": "code",
   "execution_count": 8,
   "id": "a93f48d9",
   "metadata": {},
   "outputs": [],
   "source": [
    "# cleanup the file\n",
    "X_train, y_train, X_test, y_test = dt.cleaning_train_pipeline(df)\n",
    "\n"
   ]
  },
  {
   "cell_type": "code",
   "execution_count": 10,
   "id": "ea23699d",
   "metadata": {},
   "outputs": [],
   "source": [
    "params = {\n",
    "    'max_iter': 100,\n",
    "    'class_weight': 'balanced'\n",
    "}"
   ]
  },
  {
   "cell_type": "code",
   "execution_count": 11,
   "id": "5d9a474a",
   "metadata": {},
   "outputs": [],
   "source": [
    "# train the model\n",
    "\n",
    "model, score_train, score_valid, signature = mt.train_model(X_train, y_train, X_test, y_test, params)"
   ]
  },
  {
   "cell_type": "code",
   "execution_count": 13,
   "id": "c30854de",
   "metadata": {},
   "outputs": [
    {
     "data": {
      "text/plain": [
       "0.4832869080779944"
      ]
     },
     "execution_count": 13,
     "metadata": {},
     "output_type": "execute_result"
    }
   ],
   "source": [
    "score_valid"
   ]
  },
  {
   "cell_type": "code",
   "execution_count": 15,
   "id": "24b2766b",
   "metadata": {},
   "outputs": [
    {
     "data": {
      "text/plain": [
       "inputs: \n",
       "  [Tensor('float64', (-1, 11))]\n",
       "outputs: \n",
       "  [Tensor('int64', (-1,))]"
      ]
     },
     "execution_count": 15,
     "metadata": {},
     "output_type": "execute_result"
    }
   ],
   "source": [
    "signature"
   ]
  },
  {
   "cell_type": "code",
   "execution_count": null,
   "id": "fa59279e",
   "metadata": {},
   "outputs": [],
   "source": []
  },
  {
   "cell_type": "code",
   "execution_count": 18,
   "id": "a59b3954",
   "metadata": {},
   "outputs": [],
   "source": [
    "# set up mlflow client\n",
    "\n",
    "client = MlflowClient(tracking_uri=\"http://127.0.0.1:5000\")"
   ]
  },
  {
   "cell_type": "code",
   "execution_count": 19,
   "id": "d71a0fcb",
   "metadata": {},
   "outputs": [],
   "source": [
    "# MLFLOW SETUP\n",
    "\n",
    "# CREATING EXPERIMENT\n",
    "\n",
    "\n",
    "# Provide an Experiment description that will appear in the UI\n",
    "experiment_description = (\n",
    "    \"This is the application loan prediction project \"\n",
    "    \"This experiment contains the models for loan application\"\n",
    "    \"Also this experiment is for learning purpose\"\n",
    ")\n",
    "\n",
    "\n",
    "# Provide searchable tags that define characteristics of the Runs that\n",
    "# will be in this Experiment\n",
    "experiment_tags = {\n",
    "    \"project_name\": \"loan_application_project\",\n",
    "    \"team\": \"syamil\",\n",
    "    \"project_quarter\": \"Q3-2024\",\n",
    "    \"mlflow.note.content\": experiment_description,\n",
    "}\n",
    "\n",
    "# Create the Experiment, providing a unique name\n",
    "produce_apples_experiment = client.create_experiment(\n",
    "    name=\"Loan_Application_Models\", tags=experiment_tags\n",
    ")\n"
   ]
  },
  {
   "cell_type": "code",
   "execution_count": 27,
   "id": "ddf76b33",
   "metadata": {},
   "outputs": [
    {
     "name": "stderr",
     "output_type": "stream",
     "text": [
      "Successfully registered model 'Logistic_Regressionv2'.\n",
      "2024/03/23 16:58:14 INFO mlflow.tracking._model_registry.client: Waiting up to 300 seconds for model version to finish creation.                     Model name: Logistic_Regressionv2, version 1\n",
      "Created version '1' of model 'Logistic_Regressionv2'.\n"
     ]
    }
   ],
   "source": [
    "# Log the result into mlflow\n",
    "\n",
    "\n",
    "# setting up the param\n",
    "exp_param = {\n",
    "    'name' : 'Loan_Application_Models',\n",
    "    'run_name': 'second_experiment',\n",
    "    'artifact_path': 'loan_application_model',\n",
    "    'model_name': 'Logistic_Regressionv2', \n",
    "    'signature': signature\n",
    "}\n",
    "\n",
    "model_params = params\n",
    "model_params['ways'] = 'normalize'\n",
    "\n",
    "metrics = {\n",
    "    'training_accuracy': score_train,\n",
    "    'test_accuracy': score_valid\n",
    "}\n",
    "\n",
    "mle.mlflow_logging(exp_param, model, params, metrics)\n",
    "\n"
   ]
  },
  {
   "cell_type": "code",
   "execution_count": 23,
   "id": "d93aa176",
   "metadata": {},
   "outputs": [
    {
     "data": {
      "text/plain": [
       "{'max_iter': 100, 'class_weight': 'balanced', 'ways': 'normal'}"
      ]
     },
     "execution_count": 23,
     "metadata": {},
     "output_type": "execute_result"
    }
   ],
   "source": [
    "model_params"
   ]
  },
  {
   "cell_type": "code",
   "execution_count": null,
   "id": "b48ffd3a",
   "metadata": {},
   "outputs": [],
   "source": []
  },
  {
   "cell_type": "code",
   "execution_count": null,
   "id": "74d7a387",
   "metadata": {},
   "outputs": [],
   "source": []
  },
  {
   "cell_type": "code",
   "execution_count": 28,
   "id": "3811ef2e",
   "metadata": {},
   "outputs": [],
   "source": [
    "# Test Prediction\n",
    "\n",
    "import mlflow\n",
    "logged_model = 'runs:/14ce1075b1f64c9d80f0bdbeb081a4d2/loan_application_model'\n",
    "\n",
    "# Load model as a PyFuncModel.\n",
    "loaded_model = mlflow.pyfunc.load_model(logged_model)\n"
   ]
  },
  {
   "cell_type": "code",
   "execution_count": null,
   "id": "187aa35b",
   "metadata": {},
   "outputs": [],
   "source": [
    "# Predict on a Pandas DataFrame.\n",
    "import pandas as pd"
   ]
  },
  {
   "cell_type": "code",
   "execution_count": 47,
   "id": "978e5470",
   "metadata": {},
   "outputs": [],
   "source": [
    "# test sample data\n",
    "\n",
    "sample = X_test[1].reshape(-1, 11)\n",
    "\n",
    "\n",
    "#loaded_model.predict(pd.DataFrame(X_test[0]))"
   ]
  },
  {
   "cell_type": "code",
   "execution_count": 48,
   "id": "296aebb6",
   "metadata": {},
   "outputs": [
    {
     "data": {
      "text/plain": [
       "array([[ 0.53996447, -0.88150377, -1.51697172,  0.3376169 ,  0.27094972,\n",
       "        -0.66093323,  0.78790507,  1.06783492,  0.88580077, -1.46646116,\n",
       "        -0.705783  ]])"
      ]
     },
     "execution_count": 48,
     "metadata": {},
     "output_type": "execute_result"
    }
   ],
   "source": [
    "sample = X_test[1].reshape(-1, 11)\n",
    "sample"
   ]
  },
  {
   "cell_type": "code",
   "execution_count": 44,
   "id": "ffe63d11",
   "metadata": {},
   "outputs": [
    {
     "data": {
      "text/html": [
       "<div>\n",
       "<style scoped>\n",
       "    .dataframe tbody tr th:only-of-type {\n",
       "        vertical-align: middle;\n",
       "    }\n",
       "\n",
       "    .dataframe tbody tr th {\n",
       "        vertical-align: top;\n",
       "    }\n",
       "\n",
       "    .dataframe thead th {\n",
       "        text-align: right;\n",
       "    }\n",
       "</style>\n",
       "<table border=\"1\" class=\"dataframe\">\n",
       "  <thead>\n",
       "    <tr style=\"text-align: right;\">\n",
       "      <th></th>\n",
       "      <th>0</th>\n",
       "    </tr>\n",
       "  </thead>\n",
       "  <tbody>\n",
       "    <tr>\n",
       "      <th>0</th>\n",
       "      <td>-0.791394</td>\n",
       "    </tr>\n",
       "    <tr>\n",
       "      <th>1</th>\n",
       "      <td>-1.056995</td>\n",
       "    </tr>\n",
       "    <tr>\n",
       "      <th>2</th>\n",
       "      <td>-1.182376</td>\n",
       "    </tr>\n",
       "    <tr>\n",
       "      <th>3</th>\n",
       "      <td>0.337617</td>\n",
       "    </tr>\n",
       "    <tr>\n",
       "      <th>4</th>\n",
       "      <td>0.270950</td>\n",
       "    </tr>\n",
       "    <tr>\n",
       "      <th>5</th>\n",
       "      <td>-0.660933</td>\n",
       "    </tr>\n",
       "    <tr>\n",
       "      <th>6</th>\n",
       "      <td>0.044474</td>\n",
       "    </tr>\n",
       "    <tr>\n",
       "      <th>7</th>\n",
       "      <td>1.566950</td>\n",
       "    </tr>\n",
       "    <tr>\n",
       "      <th>8</th>\n",
       "      <td>-0.286796</td>\n",
       "    </tr>\n",
       "    <tr>\n",
       "      <th>9</th>\n",
       "      <td>-0.919201</td>\n",
       "    </tr>\n",
       "    <tr>\n",
       "      <th>10</th>\n",
       "      <td>-0.705783</td>\n",
       "    </tr>\n",
       "  </tbody>\n",
       "</table>\n",
       "</div>"
      ],
      "text/plain": [
       "           0\n",
       "0  -0.791394\n",
       "1  -1.056995\n",
       "2  -1.182376\n",
       "3   0.337617\n",
       "4   0.270950\n",
       "5  -0.660933\n",
       "6   0.044474\n",
       "7   1.566950\n",
       "8  -0.286796\n",
       "9  -0.919201\n",
       "10 -0.705783"
      ]
     },
     "execution_count": 44,
     "metadata": {},
     "output_type": "execute_result"
    }
   ],
   "source": [
    "pd.DataFrame(X_test[0])"
   ]
  },
  {
   "cell_type": "code",
   "execution_count": 46,
   "id": "dcd43ffd",
   "metadata": {},
   "outputs": [
    {
     "data": {
      "text/plain": [
       "array([-0.79139369, -1.05699498, -1.18237607,  0.3376169 ,  0.27094972,\n",
       "       -0.66093323,  0.04447404,  1.56694988, -0.28679615, -0.91920146,\n",
       "       -0.705783  ])"
      ]
     },
     "execution_count": 46,
     "metadata": {},
     "output_type": "execute_result"
    }
   ],
   "source": [
    "X_test[0]"
   ]
  },
  {
   "cell_type": "code",
   "execution_count": 53,
   "id": "412ef69e",
   "metadata": {},
   "outputs": [
    {
     "data": {
      "text/plain": [
       "array([1], dtype=int64)"
      ]
     },
     "execution_count": 53,
     "metadata": {},
     "output_type": "execute_result"
    }
   ],
   "source": [
    "#####\n",
    "\n",
    "import mlflow.pyfunc\n",
    "\n",
    "model_name = 'Logistic_Regression'\n",
    "model_version = 3\n",
    "\n",
    "model = mlflow.pyfunc.load_model(model_uri=f\"models:/{model_name}/{model_version}\")\n",
    "\n",
    "model.predict(sample)"
   ]
  },
  {
   "cell_type": "code",
   "execution_count": 55,
   "id": "9ea71ea8",
   "metadata": {},
   "outputs": [
    {
     "name": "stdout",
     "output_type": "stream",
     "text": [
      "{   'creation_timestamp': 1711184250368,\n",
      "    'current_stage': 'Archived',\n",
      "    'description': '',\n",
      "    'last_updated_timestamp': 1711184606655,\n",
      "    'name': 'Logistic_Regression',\n",
      "    'run_id': '126b3e0b128e4284a5cae4db800a7acd',\n",
      "    'run_link': '',\n",
      "    'source': 'file:///C:/Users/USER/Desktop/python%20project/MLFLOW/Real%20Loan%20Application/experiment/mlruns/610163555861192253/126b3e0b128e4284a5cae4db800a7acd/artifacts/loan_application_model',\n",
      "    'status': 'READY',\n",
      "    'status_message': '',\n",
      "    'tags': {},\n",
      "    'user_id': '',\n",
      "    'version': '3'}\n",
      "{   'creation_timestamp': 1711183232673,\n",
      "    'current_stage': 'Production',\n",
      "    'description': '',\n",
      "    'last_updated_timestamp': 1711184606655,\n",
      "    'name': 'Logistic_Regression',\n",
      "    'run_id': '14ce1075b1f64c9d80f0bdbeb081a4d2',\n",
      "    'run_link': '',\n",
      "    'source': 'file:///C:/Users/USER/Desktop/python%20project/MLFLOW/Real%20Loan%20Application/experiment/mlruns/610163555861192253/14ce1075b1f64c9d80f0bdbeb081a4d2/artifacts/loan_application_model',\n",
      "    'status': 'READY',\n",
      "    'status_message': '',\n",
      "    'tags': {},\n",
      "    'user_id': '',\n",
      "    'version': '1'}\n",
      "{   'creation_timestamp': 1711183414880,\n",
      "    'current_stage': 'None',\n",
      "    'description': '',\n",
      "    'last_updated_timestamp': 1711183414880,\n",
      "    'name': 'Logistic_Regression',\n",
      "    'run_id': '1ae5c2ab1efd44e5acdb195fb7d70863',\n",
      "    'run_link': '',\n",
      "    'source': 'file:///C:/Users/USER/Desktop/python%20project/MLFLOW/Real%20Loan%20Application/experiment/mlruns/610163555861192253/1ae5c2ab1efd44e5acdb195fb7d70863/artifacts/loan_application_model',\n",
      "    'status': 'READY',\n",
      "    'status_message': '',\n",
      "    'tags': {},\n",
      "    'user_id': '',\n",
      "    'version': '2'}\n"
     ]
    }
   ],
   "source": [
    "# serving mlflow model\n",
    "\n",
    "from pprint import pprint\n",
    "\n",
    "# client = MlflowClient()\n",
    "for mv in client.search_model_versions(\"name='Logistic_Regression'\"):\n",
    "    pprint(dict(mv), indent=4)"
   ]
  },
  {
   "cell_type": "code",
   "execution_count": null,
   "id": "54aa9c59",
   "metadata": {},
   "outputs": [],
   "source": []
  }
 ],
 "metadata": {
  "kernelspec": {
   "display_name": "mlflowtest",
   "language": "python",
   "name": "mlflowtest"
  },
  "language_info": {
   "codemirror_mode": {
    "name": "ipython",
    "version": 3
   },
   "file_extension": ".py",
   "mimetype": "text/x-python",
   "name": "python",
   "nbconvert_exporter": "python",
   "pygments_lexer": "ipython3",
   "version": "3.8.18"
  }
 },
 "nbformat": 4,
 "nbformat_minor": 5
}
