{
 "cells": [
  {
   "cell_type": "code",
   "execution_count": 1,
   "id": "526d154d",
   "metadata": {},
   "outputs": [],
   "source": [
    "import pandas as pd\n",
    "from steps import data_ingestion as di\n",
    "from steps import data_transformation as dt\n",
    "from steps import model_training as mt"
   ]
  },
  {
   "cell_type": "code",
   "execution_count": 16,
   "id": "914db03d",
   "metadata": {},
   "outputs": [],
   "source": [
    "import mlflow\n",
    "from mlflow import MlflowClient\n"
   ]
  },
  {
   "cell_type": "code",
   "execution_count": 7,
   "id": "62330649",
   "metadata": {},
   "outputs": [
    {
     "data": {
      "text/html": [
       "<div>\n",
       "<style scoped>\n",
       "    .dataframe tbody tr th:only-of-type {\n",
       "        vertical-align: middle;\n",
       "    }\n",
       "\n",
       "    .dataframe tbody tr th {\n",
       "        vertical-align: top;\n",
       "    }\n",
       "\n",
       "    .dataframe thead th {\n",
       "        text-align: right;\n",
       "    }\n",
       "</style>\n",
       "<table border=\"1\" class=\"dataframe\">\n",
       "  <thead>\n",
       "    <tr style=\"text-align: right;\">\n",
       "      <th></th>\n",
       "      <th>Applicant_ID</th>\n",
       "      <th>Annual_Income</th>\n",
       "      <th>Applicant_Age</th>\n",
       "      <th>Work_Experience</th>\n",
       "      <th>Marital_Status</th>\n",
       "      <th>House_Ownership</th>\n",
       "      <th>Vehicle_Ownership(car)</th>\n",
       "      <th>Occupation</th>\n",
       "      <th>Residence_City</th>\n",
       "      <th>Residence_State</th>\n",
       "      <th>Years_in_Current_Employment</th>\n",
       "      <th>Years_in_Current_Residence</th>\n",
       "      <th>Loan_Default_Risk</th>\n",
       "    </tr>\n",
       "  </thead>\n",
       "  <tbody>\n",
       "    <tr>\n",
       "      <th>0</th>\n",
       "      <td>75722</td>\n",
       "      <td>9657655</td>\n",
       "      <td>76</td>\n",
       "      <td>0</td>\n",
       "      <td>single</td>\n",
       "      <td>rented</td>\n",
       "      <td>no</td>\n",
       "      <td>Psychologist</td>\n",
       "      <td>Jalandhar</td>\n",
       "      <td>Punjab</td>\n",
       "      <td>0</td>\n",
       "      <td>12</td>\n",
       "      <td>0</td>\n",
       "    </tr>\n",
       "    <tr>\n",
       "      <th>1</th>\n",
       "      <td>80185</td>\n",
       "      <td>9259353</td>\n",
       "      <td>37</td>\n",
       "      <td>18</td>\n",
       "      <td>single</td>\n",
       "      <td>rented</td>\n",
       "      <td>no</td>\n",
       "      <td>Petroleum_Engineer</td>\n",
       "      <td>Bally</td>\n",
       "      <td>West_Bengal</td>\n",
       "      <td>12</td>\n",
       "      <td>11</td>\n",
       "      <td>0</td>\n",
       "    </tr>\n",
       "    <tr>\n",
       "      <th>2</th>\n",
       "      <td>19865</td>\n",
       "      <td>1509721</td>\n",
       "      <td>66</td>\n",
       "      <td>8</td>\n",
       "      <td>single</td>\n",
       "      <td>rented</td>\n",
       "      <td>no</td>\n",
       "      <td>Drafter</td>\n",
       "      <td>Indore</td>\n",
       "      <td>Madhya_Pradesh</td>\n",
       "      <td>4</td>\n",
       "      <td>12</td>\n",
       "      <td>0</td>\n",
       "    </tr>\n",
       "    <tr>\n",
       "      <th>3</th>\n",
       "      <td>76700</td>\n",
       "      <td>5867312</td>\n",
       "      <td>43</td>\n",
       "      <td>1</td>\n",
       "      <td>single</td>\n",
       "      <td>owned</td>\n",
       "      <td>no</td>\n",
       "      <td>Chartered_Accountant</td>\n",
       "      <td>Kurnool[18]</td>\n",
       "      <td>Andhra_Pradesh</td>\n",
       "      <td>1</td>\n",
       "      <td>13</td>\n",
       "      <td>1</td>\n",
       "    </tr>\n",
       "    <tr>\n",
       "      <th>4</th>\n",
       "      <td>92992</td>\n",
       "      <td>7223191</td>\n",
       "      <td>44</td>\n",
       "      <td>9</td>\n",
       "      <td>single</td>\n",
       "      <td>rented</td>\n",
       "      <td>no</td>\n",
       "      <td>Air_traffic_controller</td>\n",
       "      <td>Asansol</td>\n",
       "      <td>West_Bengal</td>\n",
       "      <td>9</td>\n",
       "      <td>13</td>\n",
       "      <td>0</td>\n",
       "    </tr>\n",
       "  </tbody>\n",
       "</table>\n",
       "</div>"
      ],
      "text/plain": [
       "   Applicant_ID  Annual_Income  Applicant_Age  Work_Experience Marital_Status  \\\n",
       "0         75722        9657655             76                0         single   \n",
       "1         80185        9259353             37               18         single   \n",
       "2         19865        1509721             66                8         single   \n",
       "3         76700        5867312             43                1         single   \n",
       "4         92992        7223191             44                9         single   \n",
       "\n",
       "  House_Ownership Vehicle_Ownership(car)              Occupation  \\\n",
       "0          rented                     no            Psychologist   \n",
       "1          rented                     no      Petroleum_Engineer   \n",
       "2          rented                     no                 Drafter   \n",
       "3           owned                     no    Chartered_Accountant   \n",
       "4          rented                     no  Air_traffic_controller   \n",
       "\n",
       "  Residence_City Residence_State  Years_in_Current_Employment  \\\n",
       "0      Jalandhar          Punjab                            0   \n",
       "1          Bally     West_Bengal                           12   \n",
       "2         Indore  Madhya_Pradesh                            4   \n",
       "3    Kurnool[18]  Andhra_Pradesh                            1   \n",
       "4        Asansol     West_Bengal                            9   \n",
       "\n",
       "   Years_in_Current_Residence  Loan_Default_Risk  \n",
       "0                          12                  0  \n",
       "1                          11                  0  \n",
       "2                          12                  0  \n",
       "3                          13                  1  \n",
       "4                          13                  0  "
      ]
     },
     "execution_count": 7,
     "metadata": {},
     "output_type": "execute_result"
    }
   ],
   "source": [
    "file_path = 'C:/Users/USER/Desktop/python project/MLFLOW/Real Loan Application/data/Applicant-details.csv'\n",
    "\n",
    "# get file\n",
    "df = di.data_ingest(file_path)\n",
    "\n",
    "df.head()"
   ]
  },
  {
   "cell_type": "code",
   "execution_count": 8,
   "id": "36101a13",
   "metadata": {},
   "outputs": [],
   "source": [
    "# cleanup the file\n",
    "X_train, y_train, X_test, y_test = dt.cleaning_train_pipeline(df)\n",
    "\n"
   ]
  },
  {
   "cell_type": "code",
   "execution_count": 10,
   "id": "3af5ff73",
   "metadata": {},
   "outputs": [],
   "source": [
    "params = {\n",
    "    'max_iter': 100,\n",
    "    'class_weight': 'balanced'\n",
    "}"
   ]
  },
  {
   "cell_type": "code",
   "execution_count": 11,
   "id": "604bf79d",
   "metadata": {},
   "outputs": [],
   "source": [
    "# train the model\n",
    "\n",
    "model, score_train, score_valid, signature = mt.train_model(X_train, y_train, X_test, y_test, params)"
   ]
  },
  {
   "cell_type": "code",
   "execution_count": 13,
   "id": "592b079a",
   "metadata": {},
   "outputs": [
    {
     "data": {
      "text/plain": [
       "0.4832869080779944"
      ]
     },
     "execution_count": 13,
     "metadata": {},
     "output_type": "execute_result"
    }
   ],
   "source": [
    "score_valid"
   ]
  },
  {
   "cell_type": "code",
   "execution_count": 15,
   "id": "04675f6c",
   "metadata": {},
   "outputs": [
    {
     "data": {
      "text/plain": [
       "inputs: \n",
       "  [Tensor('float64', (-1, 11))]\n",
       "outputs: \n",
       "  [Tensor('int64', (-1,))]"
      ]
     },
     "execution_count": 15,
     "metadata": {},
     "output_type": "execute_result"
    }
   ],
   "source": [
    "signature"
   ]
  },
  {
   "cell_type": "code",
   "execution_count": null,
   "id": "3d76f5d4",
   "metadata": {},
   "outputs": [],
   "source": []
  },
  {
   "cell_type": "code",
   "execution_count": 18,
   "id": "138d0b7a",
   "metadata": {},
   "outputs": [],
   "source": [
    "# set up mlflow client\n",
    "\n",
    "client = MlflowClient(tracking_uri=\"http://127.0.0.1:5000\")"
   ]
  },
  {
   "cell_type": "code",
   "execution_count": 19,
   "id": "80f2a475",
   "metadata": {},
   "outputs": [],
   "source": [
    "# MLFLOW SETUP\n",
    "\n",
    "# CREATING EXPERIMENT\n",
    "\n",
    "\n",
    "# Provide an Experiment description that will appear in the UI\n",
    "experiment_description = (\n",
    "    \"This is the application loan prediction project \"\n",
    "    \"This experiment contains the models for loan application\"\n",
    "    \"Also this experiment is for learning purpose\"\n",
    ")\n",
    "\n",
    "\n",
    "# Provide searchable tags that define characteristics of the Runs that\n",
    "# will be in this Experiment\n",
    "experiment_tags = {\n",
    "    \"project_name\": \"loan_application_project\",\n",
    "    \"team\": \"syamil\",\n",
    "    \"project_quarter\": \"Q3-2024\",\n",
    "    \"mlflow.note.content\": experiment_description,\n",
    "}\n",
    "\n",
    "# Create the Experiment, providing a unique name\n",
    "produce_apples_experiment = client.create_experiment(\n",
    "    name=\"Loan_Application_Models\", tags=experiment_tags\n",
    ")\n"
   ]
  },
  {
   "cell_type": "code",
   "execution_count": null,
   "id": "2f8b1999",
   "metadata": {},
   "outputs": [],
   "source": []
  }
 ],
 "metadata": {
  "kernelspec": {
   "display_name": "mlflowtest",
   "language": "python",
   "name": "mlflowtest"
  },
  "language_info": {
   "codemirror_mode": {
    "name": "ipython",
    "version": 3
   },
   "file_extension": ".py",
   "mimetype": "text/x-python",
   "name": "python",
   "nbconvert_exporter": "python",
   "pygments_lexer": "ipython3",
   "version": "3.8.18"
  }
 },
 "nbformat": 4,
 "nbformat_minor": 5
}
